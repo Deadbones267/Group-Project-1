import pandas as pd
import json
import requests
from dotenv import load_dotenv, find_dotenv
import os

load_dotenv(find_dotenv("local_keys.env"))



eia_key = os.getenv("eia")


type(eia_key)


url = f"https://api.eia.gov/v2/electricity/electric-power-operational-data/data/?api_key={eia_key}&frequency=quarterly&data[0]=consumption-for-eg-btu&facets[fueltypeid][]=ALL&facets[sectorid][]=99&facets[location][]=ENC&facets[location][]=ESC&facets[location][]=MAT&facets[location][]=MTN&facets[location][]=PCC&facets[location][]=PCN&facets[location][]=SAT&start=2001-Q1&end=2024-Q3&sort[0][column]=period&sort[0][direction]=desc&offset=0&length=5000"


eia_response = requests.get(url)


eia_data = eia_response.json()


# print(json.dumps(eia_data, indent=4))


energy = pd.json_normalize(eia_data)
df_energy = energy.explode("response.data")
df_energy.head()








 


pd.set_option('display.max_colwidth', None)
energy_data = df_energy[['response.data']].reset_index().drop(columns='index').rename(columns={'response.data': 'data'})
energy_data.head()






energy_df = energy_data['data'].apply(pd.Series)
energy_df['period'] = pd.to_datetime(energy_df['period'])
energy_df.head()



final_energy = energy_df.drop(columns=['sectorid', 'stateDescription', 'sectorDescription', 'fueltypeid', 'fuelTypeDescription', 'consumption-for-eg-btu-units']).reset_index().drop(columns='index')
final_energy = final_energy.rename(columns={'period':'Date', 'location':'Region', 'consumption-for-eg-btu':'Energy in mmBTU'})
final_energy.head()










