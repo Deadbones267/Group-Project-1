{
 "cells": [
  {
   "cell_type": "code",
   "execution_count": 1,
   "metadata": {},
   "outputs": [
    {
     "name": "stdout",
     "output_type": "stream",
     "text": [
      "Requirement already satisfied: openmeteo-requests in c:\\users\\hollidaydds\\anaconda3\\lib\\site-packages (1.3.0)Note: you may need to restart the kernel to use updated packages.\n",
      "\n",
      "Requirement already satisfied: openmeteo-sdk>=1.4.0 in c:\\users\\hollidaydds\\anaconda3\\lib\\site-packages (from openmeteo-requests) (1.16.0)\n",
      "Requirement already satisfied: requests in c:\\users\\hollidaydds\\anaconda3\\lib\\site-packages (from openmeteo-requests) (2.32.2)\n",
      "Requirement already satisfied: flatbuffers>=24.0.0 in c:\\users\\hollidaydds\\anaconda3\\lib\\site-packages (from openmeteo-sdk>=1.4.0->openmeteo-requests) (24.3.25)\n",
      "Requirement already satisfied: charset-normalizer<4,>=2 in c:\\users\\hollidaydds\\anaconda3\\lib\\site-packages (from requests->openmeteo-requests) (2.0.4)\n",
      "Requirement already satisfied: idna<4,>=2.5 in c:\\users\\hollidaydds\\anaconda3\\lib\\site-packages (from requests->openmeteo-requests) (3.7)\n",
      "Requirement already satisfied: urllib3<3,>=1.21.1 in c:\\users\\hollidaydds\\anaconda3\\lib\\site-packages (from requests->openmeteo-requests) (2.2.2)\n",
      "Requirement already satisfied: certifi>=2017.4.17 in c:\\users\\hollidaydds\\anaconda3\\lib\\site-packages (from requests->openmeteo-requests) (2024.6.2)\n",
      "Requirement already satisfied: requests-cache in c:\\users\\hollidaydds\\anaconda3\\lib\\site-packages (1.2.1)\n",
      "Requirement already satisfied: retry-requests in c:\\users\\hollidaydds\\anaconda3\\lib\\site-packages (2.0.0)\n",
      "Requirement already satisfied: numpy in c:\\users\\hollidaydds\\anaconda3\\lib\\site-packages (1.26.4)\n",
      "Requirement already satisfied: pandas in c:\\users\\hollidaydds\\anaconda3\\lib\\site-packages (2.2.2)\n",
      "Requirement already satisfied: attrs>=21.2 in c:\\users\\hollidaydds\\anaconda3\\lib\\site-packages (from requests-cache) (23.1.0)\n",
      "Requirement already satisfied: cattrs>=22.2 in c:\\users\\hollidaydds\\anaconda3\\lib\\site-packages (from requests-cache) (24.1.2)\n",
      "Requirement already satisfied: platformdirs>=2.5 in c:\\users\\hollidaydds\\anaconda3\\lib\\site-packages (from requests-cache) (3.10.0)\n",
      "Requirement already satisfied: requests>=2.22 in c:\\users\\hollidaydds\\anaconda3\\lib\\site-packages (from requests-cache) (2.32.2)\n",
      "Requirement already satisfied: url-normalize>=1.4 in c:\\users\\hollidaydds\\anaconda3\\lib\\site-packages (from requests-cache) (1.4.3)\n",
      "Requirement already satisfied: urllib3>=1.25.5 in c:\\users\\hollidaydds\\anaconda3\\lib\\site-packages (from requests-cache) (2.2.2)\n",
      "Requirement already satisfied: python-dateutil>=2.8.2 in c:\\users\\hollidaydds\\anaconda3\\lib\\site-packages (from pandas) (2.9.0.post0)\n",
      "Requirement already satisfied: pytz>=2020.1 in c:\\users\\hollidaydds\\anaconda3\\lib\\site-packages (from pandas) (2024.1)\n",
      "Requirement already satisfied: tzdata>=2022.7 in c:\\users\\hollidaydds\\anaconda3\\lib\\site-packages (from pandas) (2023.3)\n",
      "Requirement already satisfied: six>=1.5 in c:\\users\\hollidaydds\\anaconda3\\lib\\site-packages (from python-dateutil>=2.8.2->pandas) (1.16.0)\n",
      "Requirement already satisfied: charset-normalizer<4,>=2 in c:\\users\\hollidaydds\\anaconda3\\lib\\site-packages (from requests>=2.22->requests-cache) (2.0.4)\n",
      "Requirement already satisfied: idna<4,>=2.5 in c:\\users\\hollidaydds\\anaconda3\\lib\\site-packages (from requests>=2.22->requests-cache) (3.7)\n",
      "Requirement already satisfied: certifi>=2017.4.17 in c:\\users\\hollidaydds\\anaconda3\\lib\\site-packages (from requests>=2.22->requests-cache) (2024.6.2)\n",
      "Note: you may need to restart the kernel to use updated packages.\n"
     ]
    }
   ],
   "source": [
    "%pip install openmeteo-requests\n",
    "%pip install requests-cache retry-requests numpy pandas"
   ]
  },
  {
   "cell_type": "code",
   "execution_count": 10,
   "metadata": {},
   "outputs": [
    {
     "ename": "OpenMeteoRequestsError",
     "evalue": "{'reason': 'Latitude must be in range of -90 to 90°. Given: 5221.31.', 'error': True}",
     "output_type": "error",
     "traceback": [
      "\u001b[1;31m---------------------------------------------------------------------------\u001b[0m",
      "\u001b[1;31mOpenMeteoRequestsError\u001b[0m                    Traceback (most recent call last)",
      "Cell \u001b[1;32mIn[10], line 25\u001b[0m\n\u001b[0;32m     14\u001b[0m url \u001b[38;5;241m=\u001b[39m \u001b[38;5;124m\"\u001b[39m\u001b[38;5;124mhttps://archive-api.open-meteo.com/v1/archive\u001b[39m\u001b[38;5;124m\"\u001b[39m\n\u001b[0;32m     15\u001b[0m params \u001b[38;5;241m=\u001b[39m {\n\u001b[0;32m     16\u001b[0m \t\u001b[38;5;124m\"\u001b[39m\u001b[38;5;124mlatitude\u001b[39m\u001b[38;5;124m\"\u001b[39m: \u001b[38;5;241m5221.3099\u001b[39m,\n\u001b[0;32m     17\u001b[0m \t\u001b[38;5;124m\"\u001b[39m\u001b[38;5;124mlongitude\u001b[39m\u001b[38;5;124m\"\u001b[39m: \u001b[38;5;241m157.8581\u001b[39m,\n\u001b[1;32m   (...)\u001b[0m\n\u001b[0;32m     23\u001b[0m \t\u001b[38;5;124m\"\u001b[39m\u001b[38;5;124mprecipitation_unit\u001b[39m\u001b[38;5;124m\"\u001b[39m: \u001b[38;5;124m\"\u001b[39m\u001b[38;5;124minch\u001b[39m\u001b[38;5;124m\"\u001b[39m\n\u001b[0;32m     24\u001b[0m }\n\u001b[1;32m---> 25\u001b[0m responses \u001b[38;5;241m=\u001b[39m openmeteo\u001b[38;5;241m.\u001b[39mweather_api(url, params\u001b[38;5;241m=\u001b[39mparams)\n\u001b[0;32m     27\u001b[0m \u001b[38;5;66;03m# Process first location. Add a for-loop for multiple locations or weather models\u001b[39;00m\n\u001b[0;32m     28\u001b[0m response \u001b[38;5;241m=\u001b[39m responses[\u001b[38;5;241m0\u001b[39m]\n",
      "File \u001b[1;32mc:\\Users\\HollidayDDS\\anaconda3\\Lib\\site-packages\\openmeteo_requests\\Client.py:54\u001b[0m, in \u001b[0;36mClient.weather_api\u001b[1;34m(self, url, params, method, verify)\u001b[0m\n\u001b[0;32m     50\u001b[0m \u001b[38;5;28;01mdef\u001b[39;00m \u001b[38;5;21mweather_api\u001b[39m(\n\u001b[0;32m     51\u001b[0m     \u001b[38;5;28mself\u001b[39m, url: \u001b[38;5;28mstr\u001b[39m, params: \u001b[38;5;28many\u001b[39m, method: \u001b[38;5;28mstr\u001b[39m \u001b[38;5;241m=\u001b[39m \u001b[38;5;124m\"\u001b[39m\u001b[38;5;124mGET\u001b[39m\u001b[38;5;124m\"\u001b[39m, verify: \u001b[38;5;28mbool\u001b[39m \u001b[38;5;241m|\u001b[39m \u001b[38;5;28mstr\u001b[39m \u001b[38;5;241m|\u001b[39m \u001b[38;5;28;01mNone\u001b[39;00m \u001b[38;5;241m=\u001b[39m \u001b[38;5;28;01mNone\u001b[39;00m\n\u001b[0;32m     52\u001b[0m ) \u001b[38;5;241m-\u001b[39m\u001b[38;5;241m>\u001b[39m \u001b[38;5;28mlist\u001b[39m[WeatherApiResponse]:\n\u001b[0;32m     53\u001b[0m \u001b[38;5;250m    \u001b[39m\u001b[38;5;124;03m\"\"\"Get and decode as weather api\"\"\"\u001b[39;00m\n\u001b[1;32m---> 54\u001b[0m     \u001b[38;5;28;01mreturn\u001b[39;00m \u001b[38;5;28mself\u001b[39m\u001b[38;5;241m.\u001b[39m_get(WeatherApiResponse, url, params, method, verify)\n",
      "File \u001b[1;32mc:\\Users\\HollidayDDS\\anaconda3\\Lib\\site-packages\\openmeteo_requests\\Client.py:35\u001b[0m, in \u001b[0;36mClient._get\u001b[1;34m(self, cls, url, params, method, verify)\u001b[0m\n\u001b[0;32m     33\u001b[0m \u001b[38;5;28;01mif\u001b[39;00m response\u001b[38;5;241m.\u001b[39mstatus_code \u001b[38;5;129;01min\u001b[39;00m [\u001b[38;5;241m400\u001b[39m, \u001b[38;5;241m429\u001b[39m]:\n\u001b[0;32m     34\u001b[0m     response_body \u001b[38;5;241m=\u001b[39m response\u001b[38;5;241m.\u001b[39mjson()\n\u001b[1;32m---> 35\u001b[0m     \u001b[38;5;28;01mraise\u001b[39;00m OpenMeteoRequestsError(response_body)\n\u001b[0;32m     37\u001b[0m response\u001b[38;5;241m.\u001b[39mraise_for_status()\n\u001b[0;32m     39\u001b[0m data \u001b[38;5;241m=\u001b[39m response\u001b[38;5;241m.\u001b[39mcontent\n",
      "\u001b[1;31mOpenMeteoRequestsError\u001b[0m: {'reason': 'Latitude must be in range of -90 to 90°. Given: 5221.31.', 'error': True}"
     ]
    }
   ],
   "source": [
    "import openmeteo_requests\n",
    "\n",
    "import requests_cache\n",
    "import pandas as pd\n",
    "from retry_requests import retry\n",
    "\n",
    "# Setup the Open-Meteo API client with cache and retry on error\n",
    "cache_session = requests_cache.CachedSession('.cache', expire_after = -1)\n",
    "retry_session = retry(cache_session, retries = 5, backoff_factor = 0.2)\n",
    "openmeteo = openmeteo_requests.Client(session = retry_session)\n",
    "\n",
    "# Make sure all required weather variables are listed here\n",
    "# The order of variables in hourly or daily is important to assign them correctly below\n",
    "url = \"https://archive-api.open-meteo.com/v1/archive\"\n",
    "params = {\n",
    "\t\"latitude\": 21.315603,\n",
    "\t\"longitude\": -157.858093,\n",
    "\t\"start_date\": \"2019-01-01\",\n",
    "\t\"end_date\": \"2023-12-31\",\n",
    "\t\"daily\": [\"temperature_2m_max\", \"temperature_2m_min\", \"temperature_2m_mean\", \"daylight_duration\", \"sunshine_duration\", \"precipitation_sum\", \"wind_speed_10m_max\", \"wind_gusts_10m_max\", \"wind_direction_10m_dominant\", \"shortwave_radiation_sum\"],\n",
    "\t\"temperature_unit\": \"fahrenheit\",\n",
    "\t\"wind_speed_unit\": \"mph\",\n",
    "\t\"precipitation_unit\": \"inch\"\n",
    "}\n",
    "responses = openmeteo.weather_api(url, params=params)\n",
    "\n",
    "# Process first location. Add a for-loop for multiple locations or weather models\n",
    "response = responses[0]\n",
    "print(f\"Coordinates {response.Latitude()}°N {response.Longitude()}°E\")\n",
    "print(f\"Elevation {response.Elevation()} m asl\")\n",
    "\n",
    "# Process daily data. The order of variables needs to be the same as requested.\n",
    "daily = response.Daily()\n",
    "daily_temperature_2m_max = daily.Variables(0).ValuesAsNumpy()\n",
    "daily_temperature_2m_min = daily.Variables(1).ValuesAsNumpy()\n",
    "daily_temperature_2m_mean = daily.Variables(2).ValuesAsNumpy()\n",
    "daily_daylight_duration = daily.Variables(3).ValuesAsNumpy()\n",
    "daily_sunshine_duration = daily.Variables(4).ValuesAsNumpy()\n",
    "daily_precipitation_sum = daily.Variables(5).ValuesAsNumpy()\n",
    "daily_wind_speed_10m_max = daily.Variables(6).ValuesAsNumpy()\n",
    "daily_wind_gusts_10m_max = daily.Variables(7).ValuesAsNumpy()\n",
    "daily_wind_direction_10m_dominant = daily.Variables(8).ValuesAsNumpy()\n",
    "daily_shortwave_radiation_sum = daily.Variables(9).ValuesAsNumpy()\n",
    "\n",
    "daily_data = {\"date\": pd.date_range(\n",
    "\tstart = pd.to_datetime(daily.Time(), unit = \"s\", utc = True),\n",
    "\tend = pd.to_datetime(daily.TimeEnd(), unit = \"s\", utc = True),\n",
    "\tfreq = pd.Timedelta(seconds = daily.Interval()),\n",
    "\tinclusive = \"left\"\n",
    ")}\n",
    "daily_data[\"temperature_2m_max\"] = daily_temperature_2m_max\n",
    "daily_data[\"temperature_2m_min\"] = daily_temperature_2m_min\n",
    "daily_data[\"temperature_2m_mean\"] = daily_temperature_2m_mean\n",
    "daily_data[\"daylight_duration\"] = daily_daylight_duration\n",
    "daily_data[\"sunshine_duration\"] = daily_sunshine_duration\n",
    "daily_data[\"precipitation_sum\"] = daily_precipitation_sum\n",
    "daily_data[\"wind_speed_10m_max\"] = daily_wind_speed_10m_max\n",
    "daily_data[\"wind_gusts_10m_max\"] = daily_wind_gusts_10m_max\n",
    "daily_data[\"wind_direction_10m_dominant\"] = daily_wind_direction_10m_dominant\n",
    "daily_data[\"shortwave_radiation_sum\"] = daily_shortwave_radiation_sum\n",
    "\n",
    "daily_dataframe = pd.DataFrame(data = daily_data)\n",
    "daily_dataframe.head()\n",
    "\n"
   ]
  },
  {
   "cell_type": "code",
   "execution_count": 9,
   "metadata": {},
   "outputs": [],
   "source": [
    "daily_dataframe['date'] = daily_dataframe['date'].dt.tz_localize(None)\n",
    "\n",
    "daily_dataframe.to_excel('data.xlsx', index=False)"
   ]
  }
 ],
 "metadata": {
  "kernelspec": {
   "display_name": "base",
   "language": "python",
   "name": "python3"
  },
  "language_info": {
   "codemirror_mode": {
    "name": "ipython",
    "version": 3
   },
   "file_extension": ".py",
   "mimetype": "text/x-python",
   "name": "python",
   "nbconvert_exporter": "python",
   "pygments_lexer": "ipython3",
   "version": "3.12.4"
  }
 },
 "nbformat": 4,
 "nbformat_minor": 2
}
